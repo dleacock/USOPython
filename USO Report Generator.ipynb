{
 "cells": [
  {
   "cell_type": "code",
   "execution_count": 77,
   "metadata": {
    "collapsed": false
   },
   "outputs": [],
   "source": [
    "import openpyxl\n",
    "import numpy as np\n",
    "from openpyxl.cell import get_column_letter, column_index_from_string"
   ]
  },
  {
   "cell_type": "markdown",
   "metadata": {},
   "source": [
    "#### Create dict object to match different reviewers with their score"
   ]
  },
  {
   "cell_type": "code",
   "execution_count": 256,
   "metadata": {
    "collapsed": true
   },
   "outputs": [],
   "source": [
    "# There are 5 different reviewers for each proposal, the same reviewer can \n",
    "# appear in multiple proposals under different reviewer number. This \n",
    "# function looks through each of the reviewer columns and creates a mapping \n",
    "# of a reviewer column and which proposal row it belongs to.\n",
    "\n",
    "def getRowColDictFromName(name):\n",
    "    rowColDict = {}\n",
    "    for colNum in range(column_index_from_string(\"AG\"), column_index_from_string(\"AL\")):\n",
    "        for rowNum in range(2, dataSheet.max_row+1):\n",
    "            if (dataSheet.cell(row=rowNum, column=colNum).value == name):\n",
    "                rowColDict[rowNum] = colNum\n",
    "    return rowColDict"
   ]
  },
  {
   "cell_type": "markdown",
   "metadata": {},
   "source": [
    "#### Determine reviewers particular review column based on their review location"
   ]
  },
  {
   "cell_type": "code",
   "execution_count": 80,
   "metadata": {
    "collapsed": true
   },
   "outputs": [],
   "source": [
    "def getMeritScoreColumn(nameColumn):\n",
    "    if(nameColumn == 33):\n",
    "            return \"G\"\n",
    "    elif(nameColumn == 34):\n",
    "            return \"H\"\n",
    "    elif(nameColumn == 35):\n",
    "            return \"I\"\n",
    "    elif(nameColumn == 36):\n",
    "            return \"J\"\n",
    "    elif(nameColumn == 37):\n",
    "            return \"K\"\n",
    "        \n",
    "def getSuitScoreColumn(nameColumn):\n",
    "    if(nameColumn == 33):\n",
    "            return \"O\"\n",
    "    elif(nameColumn == 34):\n",
    "            return \"P\"\n",
    "    elif(nameColumn == 35):\n",
    "            return \"Q\"\n",
    "    elif(nameColumn == 36):\n",
    "            return \"R\"\n",
    "    elif(nameColumn == 37):\n",
    "            return \"S\"        \n",
    "        \n",
    "def getCapScoreColumn(nameColumn):\n",
    "    if(nameColumn == 33):\n",
    "            return \"W\"\n",
    "    elif(nameColumn == 34):\n",
    "            return \"X\"\n",
    "    elif(nameColumn == 35):\n",
    "            return \"Y\"\n",
    "    elif(nameColumn == 36):\n",
    "            return \"Z\"\n",
    "    elif(nameColumn == 37):\n",
    "            return \"AA\"   "
   ]
  },
  {
   "cell_type": "markdown",
   "metadata": {},
   "source": [
    "#### Report generator"
   ]
  },
  {
   "cell_type": "code",
   "execution_count": 253,
   "metadata": {
    "collapsed": true
   },
   "outputs": [],
   "source": [
    "# Run through list of names, for each name create a dict map of their particular\n",
    "# review column for a particular propsal row.  Grab all the data from that row and\n",
    "# certain columns, do calculations and write to sheet.\n",
    "\n",
    "def generateReport():\n",
    "\n",
    "    for r in xrange(2, nameSheet.max_row+1):    \n",
    "        \n",
    "        # Read name and email address off nameSheet workbook\n",
    "        name = nameSheet.cell(row=r, column=1).value\n",
    "        email = nameSheet.cell(row=r, column=4).value\n",
    "        # Create a dict map for each name\n",
    "        nameDict = getRowColDictFromName(name)\n",
    "        \n",
    "        # Determine current row in report, so not to overwrite our work.\n",
    "        currentRow = reportSheet.max_row+1\n",
    "        # Multiple reviews per singular reviewer will be generated outward to the right\n",
    "        # Using a column offset*column to create groups of reviews.\n",
    "        columnOffset = 1\n",
    "        \n",
    "        \n",
    "        # Fill name and email into report, only do this once per viewer\n",
    "        reportSheet.cell(row=currentRow, column=1).value = name\n",
    "        reportSheet.cell(row=currentRow, column=2).value = email\n",
    "\n",
    "        reportSheet.cell(row=1, column=1).value = \"Reviewer Name\"\n",
    "        reportSheet.cell(row=1, column=2).value = \"Email\"\n",
    "        \n",
    "        for x in nameDict:\n",
    "            \n",
    "            #Create offset columns indices \n",
    "            if(columnOffset == 1):\n",
    "                colOffset = (columnOffset - 1) * 14 \n",
    "            elif(columnOffset > 1):\n",
    "                colOffset = (columnOffset - 1) * 12 \n",
    "          \n",
    "            # Generate new headers for each propsal review\n",
    "            reportSheet.cell(row=1, column=3+colOffset).value = \"Cycle\"+str(columnOffset)\n",
    "            reportSheet.cell(row=1, column=4+colOffset).value = \"Proposal ID\"+str(columnOffset)\n",
    "            reportSheet.cell(row=1, column=5+colOffset).value = \"Proposal Title\"+str(columnOffset)\n",
    "            reportSheet.cell(row=1, column=6+colOffset).value = \"Beamline\"+str(columnOffset)\n",
    "            reportSheet.cell(row=1, column=7+colOffset).value = \"Merit\"+str(columnOffset)\n",
    "            reportSheet.cell(row=1, column=8+colOffset).value = \"Suit\"+str(columnOffset)\n",
    "            reportSheet.cell(row=1, column=9+colOffset).value = \"Cap\"+str(columnOffset)\n",
    "            reportSheet.cell(row=1, column=10+colOffset).value = \"Merit Final\"+str(columnOffset)\n",
    "            reportSheet.cell(row=1, column=11+colOffset).value = \"Merit SD\"+str(columnOffset)\n",
    "            reportSheet.cell(row=1, column=12+colOffset).value = \"Suit Final\"+str(columnOffset)\n",
    "            reportSheet.cell(row=1, column=13+colOffset).value = \"Cap Final\"+str(columnOffset)\n",
    "            reportSheet.cell(row=1, column=14+colOffset).value = \"Alloc\"+str(columnOffset)      \n",
    "            \n",
    "                        \n",
    "            #Determin particular reviewer score column based on which review number they were for that propsal\n",
    "            meritCol = column_index_from_string(getMeritScoreColumn(nameDict[x]))\n",
    "            suitCol = column_index_from_string(getSuitScoreColumn(nameDict[x]))\n",
    "            capCol = column_index_from_string(getCapScoreColumn(nameDict[x]))\n",
    "\n",
    "            reportSheet.cell(row=currentRow, column=3+colOffset).value = dataSheet.cell(row=x, column=column_index_from_string(\"A\")).value\n",
    "            reportSheet.cell(row=currentRow, column=4+colOffset).value = dataSheet.cell(row=x, column=column_index_from_string(\"B\")).value\n",
    "            reportSheet.cell(row=currentRow, column=5+colOffset).value = dataSheet.cell(row=x, column=column_index_from_string(\"E\")).value\n",
    "            reportSheet.cell(row=currentRow, column=6+colOffset).value = dataSheet.cell(row=x, column=column_index_from_string(\"D\")).value\n",
    "            reportSheet.cell(row=currentRow, column=7+colOffset).value = dataSheet.cell(row=x, column=meritCol).value\n",
    "            reportSheet.cell(row=currentRow, column=8+colOffset).value = dataSheet.cell(row=x, column=suitCol).value\n",
    "            reportSheet.cell(row=currentRow, column=9+colOffset).value = dataSheet.cell(row=x, column=capCol).value\n",
    "           \n",
    "\n",
    "            # Merit Final scores. It may not be the case that there were 6 reviewers for the proposal.\n",
    "            # A blank score isn't a score of zero. Value will be checked against this as to not interfer\n",
    "            # with calculation.\n",
    "            m0 = (dataSheet.cell(row=x, column=6).value)\n",
    "            m1 = (dataSheet.cell(row=x, column=7).value)\n",
    "            m2 = (dataSheet.cell(row=x, column=8).value)\n",
    "            m3 = (dataSheet.cell(row=x, column=9).value)\n",
    "            m4 = (dataSheet.cell(row=x, column=10).value)\n",
    "            m5 = (dataSheet.cell(row=x, column=11).value)\n",
    "\n",
    "            mData = []\n",
    "            \n",
    "            if(m0):\n",
    "                mData.append(m0)\n",
    "            if(m1):\n",
    "                mData.append(m1)\n",
    "            if(m2):\n",
    "                mData.append(m2)\n",
    "            if(m3):\n",
    "                mData.append(m3)\n",
    "            if(m4):\n",
    "                mData.append(m4)\n",
    "            if(m5):\n",
    "                mData.append(m5)    \n",
    "\n",
    "            mFinal = np.average(mData)\n",
    "            reportSheet.cell(row=currentRow, column=10+colOffset).value = np.round(mFinal,2)\n",
    "\n",
    "            # Merit Standard Deviation, rounded to 2 decimal places.\n",
    "            mStd = np.std(mData)\n",
    "            reportSheet.cell(row=currentRow, column=11+colOffset).value = np.round(mStd, 2)\n",
    "\n",
    "            # Suit Final scores. It may not be the case that there were 6 reviewers for the proposal.\n",
    "            # A blank score isn't a score of zero. Value will be checked against this as to not interfer\n",
    "            # with calculation.\n",
    "            s0 = (dataSheet.cell(row=x, column=14).value)\n",
    "            s1 = (dataSheet.cell(row=x, column=15).value)\n",
    "            s2 = (dataSheet.cell(row=x, column=16).value)\n",
    "            s3 = (dataSheet.cell(row=x, column=17).value)\n",
    "            s4 = (dataSheet.cell(row=x, column=18).value)\n",
    "            s5 = (dataSheet.cell(row=x, column=19).value)\n",
    "\n",
    "            sData = []\n",
    "            if(s0):\n",
    "                sData.append(s0)\n",
    "            if(s1):\n",
    "                sData.append(s1)\n",
    "            if(s2):\n",
    "                sData.append(s2)\n",
    "            if(s3):\n",
    "                sData.append(s3)\n",
    "            if(s4):\n",
    "                sData.append(s4)\n",
    "            if(s5):\n",
    "                sData.append(s5)    \n",
    "\n",
    "            sFinal = np.average(sData)\n",
    "            reportSheet.cell(row=currentRow, column=12+colOffset).value = np.round(sFinal,2)\n",
    "\n",
    "            # Cap Final scores. It may not be the case that there were 6 reviewers for the proposal.\n",
    "            ## A blank score isn't a score of zero. Value will be checked against this as to not interfer\n",
    "            # with calculation.\n",
    "            c0 = (dataSheet.cell(row=x, column=22).value)\n",
    "            c1 = (dataSheet.cell(row=x, column=23).value)\n",
    "            c2 = (dataSheet.cell(row=x, column=24).value)\n",
    "            c3 = (dataSheet.cell(row=x, column=25).value)\n",
    "            c4 = (dataSheet.cell(row=x, column=26).value)\n",
    "            c5 = (dataSheet.cell(row=x, column=27).value)\n",
    "\n",
    "            cData = []\n",
    "            if(c0):\n",
    "                cData.append(c0)\n",
    "            if(c1):\n",
    "                cData.append(c1)\n",
    "            if(c2):\n",
    "                cData.append(c2)\n",
    "            if(c3):\n",
    "                cData.append(c3)\n",
    "            if(c4):\n",
    "                cData.append(c4)\n",
    "            if(c5):\n",
    "                cData.append(c5)\n",
    "\n",
    "            cFinal = np.average(cData)\n",
    "            reportSheet.cell(row=currentRow, column=13+colOffset).value = np.round(cFinal,2)\n",
    "\n",
    "            # Allocation value\n",
    "            reportSheet.cell(row=currentRow, column=14+colOffset).value = dataSheet.cell(row=x, column=column_index_from_string(\"AE\")).value\n",
    "            # Increment row and column offsets\n",
    "            #currentRow += 1\n",
    "            columnOffset += 1\n",
    "        currentRow += 1"
   ]
  },
  {
   "cell_type": "markdown",
   "metadata": {
    "collapsed": true
   },
   "source": [
    "#### Create and load workbooks "
   ]
  },
  {
   "cell_type": "code",
   "execution_count": 257,
   "metadata": {
    "collapsed": true
   },
   "outputs": [],
   "source": [
    "#Open data workbook and access the sheet\n",
    "dataWorkbook = openpyxl.load_workbook('data.xlsx')\n",
    "dataSheet = dataWorkbook.get_sheet_by_name('Sheet1')\n",
    "#Open workbook containing list of names\n",
    "namesWorkbook = openpyxl.load_workbook('names.xlsx')\n",
    "nameSheet = namesWorkbook.get_sheet_by_name('Sheet1')\n",
    "#Create a blank workbook to store everything\n",
    "reportWorkbook = openpyxl.Workbook()\n",
    "reportSheet = reportWorkbook.get_sheet_by_name('Sheet')\n",
    "reportWorkbook.save('reportTest.xlsx')"
   ]
  },
  {
   "cell_type": "markdown",
   "metadata": {},
   "source": [
    "## Main program"
   ]
  },
  {
   "cell_type": "code",
   "execution_count": 258,
   "metadata": {
    "collapsed": false
   },
   "outputs": [],
   "source": [
    "generateReport()\n",
    "reportWorkbook.save('reportTest.xlsx')"
   ]
  }
 ],
 "metadata": {
  "kernelspec": {
   "display_name": "Python 2",
   "language": "python",
   "name": "python2"
  },
  "language_info": {
   "codemirror_mode": {
    "name": "ipython",
    "version": 2
   },
   "file_extension": ".py",
   "mimetype": "text/x-python",
   "name": "python",
   "nbconvert_exporter": "python",
   "pygments_lexer": "ipython2",
   "version": "2.7.11"
  }
 },
 "nbformat": 4,
 "nbformat_minor": 0
}
